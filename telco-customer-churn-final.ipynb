{
 "cells": [
  {
   "cell_type": "code",
   "execution_count": 56,
   "id": "1541ad17",
   "metadata": {
    "scrolled": false
   },
   "outputs": [],
   "source": [
    "import pandas as pd\n",
    "import numpy as np\n",
    "from sklearn.preprocessing import OneHotEncoder\n",
    "from sklearn.compose import ColumnTransformer\n",
    "from sklearn.model_selection import train_test_split\n",
    "from imblearn.under_sampling import RandomUnderSampler\n",
    "from sklearn.ensemble import RandomForestClassifier\n",
    "from sklearn.metrics import classification_report\n",
    "from sklearn.model_selection import cross_val_score\n",
    "import matplotlib.pyplot as plt\n",
    "from sklearn.metrics import roc_curve\n",
    "from sklearn.metrics import confusion_matrix\n",
    "import seaborn as sns\n",
    "\n",
    "# Loading data\n",
    "np.random.seed(42)\n",
    "data = pd.read_csv('./WA_Fn-UseC_-Telco-Customer-Churn.csv')\n",
    "data = data.sample(frac=1)\n",
    "\n",
    "# Getting data ready\n",
    "data['TotalCharges'] = pd.to_numeric(data['TotalCharges'], errors='coerce')\n",
    "data['Churn'] = data['Churn'].map({'Yes': 1, 'No': 0})\n",
    "\n",
    "# Drogpin empty values\n",
    "data = data.dropna()\n",
    "\n",
    "# Spliting labels and feautures\n",
    "X = data.drop(columns=['customerID', 'Churn'])\n",
    "y = data['Churn']\n",
    "\n",
    "# Encoding categorical features\n",
    "categorical_features = ['gender', 'Partner', 'Dependents', 'tenure',\n",
    "       'PhoneService', 'MultipleLines', 'InternetService', 'OnlineSecurity',\n",
    "       'OnlineBackup', 'DeviceProtection', 'TechSupport', 'StreamingTV',\n",
    "       'StreamingMovies', 'Contract', 'PaperlessBilling', 'PaymentMethod']\n",
    "one_hot = OneHotEncoder(sparse_output=False)\n",
    "transformer = ColumnTransformer([('one_hot', one_hot, categorical_features)], remainder='passthrough')\n",
    "transformed_X = transformer.fit_transform(X)\n",
    "\n",
    "# Saving the names of colums\n",
    "encoded_feature_names = transformer.named_transformers_['one_hot'].get_feature_names_out(categorical_features)\n",
    "all_feature_names = list(encoded_feature_names) + [col for col in X.columns if col not in categorical_features]\n",
    "\n",
    "# Train test split\n",
    "X_train, X_test, y_train, y_test = train_test_split(transformed_X, y, test_size=.2)\n",
    "\n",
    "# Undersampling\n",
    "undersampler = RandomUnderSampler(random_state=42)\n",
    "X_undersampled, y_undersampled = undersampler.fit_resample(X_train, y_train)\n",
    "\n",
    "# Model\n",
    "rfc = RandomForestClassifier(n_estimators=10, min_samples_split=2, min_samples_leaf=2, max_features='log2', max_depth=5)\n",
    "rfc.fit(X_undersampled, y_undersampled)\n",
    "\n",
    "# Metrics\n",
    "rfc_score = rfc.score(X_test, y_test)\n",
    "y_preds = rfc.predict(X_test)\n",
    "classification_report = classification_report(y_test, y_preds)\n",
    "rfc_cross_val_score = cross_val_score(rfc, X_test, y_test)\n",
    "cfs = confusion_matrix(y_test, y_preds)"
   ]
  },
  {
   "cell_type": "markdown",
   "id": "af8534ea",
   "metadata": {},
   "source": [
    "# Charts\n"
   ]
  },
  {
   "cell_type": "code",
   "execution_count": 57,
   "id": "fa45f0df",
   "metadata": {},
   "outputs": [
    {
     "data": {
      "text/html": [
       "<div>\n",
       "<style scoped>\n",
       "    .dataframe tbody tr th:only-of-type {\n",
       "        vertical-align: middle;\n",
       "    }\n",
       "\n",
       "    .dataframe tbody tr th {\n",
       "        vertical-align: top;\n",
       "    }\n",
       "\n",
       "    .dataframe thead th {\n",
       "        text-align: right;\n",
       "    }\n",
       "</style>\n",
       "<table border=\"1\" class=\"dataframe\">\n",
       "  <thead>\n",
       "    <tr style=\"text-align: right;\">\n",
       "      <th>Predicted Labels</th>\n",
       "      <th>0</th>\n",
       "      <th>1</th>\n",
       "    </tr>\n",
       "    <tr>\n",
       "      <th>Actual label</th>\n",
       "      <th></th>\n",
       "      <th></th>\n",
       "    </tr>\n",
       "  </thead>\n",
       "  <tbody>\n",
       "    <tr>\n",
       "      <th>0</th>\n",
       "      <td>708</td>\n",
       "      <td>304</td>\n",
       "    </tr>\n",
       "    <tr>\n",
       "      <th>1</th>\n",
       "      <td>64</td>\n",
       "      <td>331</td>\n",
       "    </tr>\n",
       "  </tbody>\n",
       "</table>\n",
       "</div>"
      ],
      "text/plain": [
       "Predicted Labels    0    1\n",
       "Actual label              \n",
       "0                 708  304\n",
       "1                  64  331"
      ]
     },
     "execution_count": 57,
     "metadata": {},
     "output_type": "execute_result"
    }
   ],
   "source": [
    "pd.crosstab(y_test, y_preds, rownames=[\"Actual label\"], colnames=[\"Predicted Labels\"])"
   ]
  },
  {
   "cell_type": "code",
   "execution_count": 58,
   "id": "224546f8",
   "metadata": {},
   "outputs": [
    {
     "data": {
      "text/plain": [
       "<Axes: >"
      ]
     },
     "execution_count": 58,
     "metadata": {},
     "output_type": "execute_result"
    },
    {
     "data": {
      "image/png": "[encoded data removed]",
      "text/plain": [
       "<Figure size 640x480 with 2 Axes>"
      ]
     },
     "metadata": {},
     "output_type": "display_data"
    }
   ],
   "source": [
    "sns.set(font_scale=1.5)\n",
    "sns.heatmap(cfs)"
   ]
  },
  {
   "cell_type": "code",
   "execution_count": 59,
   "id": "3c161672",
   "metadata": {},
   "outputs": [
    {
     "name": "stdout",
     "output_type": "stream",
     "text": [
      "              precision    recall  f1-score   support\n",
      "\n",
      "           0       0.92      0.70      0.79      1012\n",
      "           1       0.52      0.84      0.64       395\n",
      "\n",
      "    accuracy                           0.74      1407\n",
      "   macro avg       0.72      0.77      0.72      1407\n",
      "weighted avg       0.81      0.74      0.75      1407\n",
      "\n"
     ]
    }
   ],
   "source": [
    "print(classification_report)"
   ]
  },
  {
   "cell_type": "markdown",
   "id": "0240157c",
   "metadata": {},
   "source": [
    "# Conclusion\n",
    "\n",
    "Based on the evaluation of various performance metrics, the Random Forest Classification Undersampled model emerges as a compelling choice for our customer retention program. With a robust recall of 0.78 for identifying customers likely to churn, this model demonstrates a strong ability to capture genuine churn cases, which is paramount for our retention efforts. Although its overall accuracy is slightly lower compared to other models, its balanced precision and recall metrics signify its effectiveness in distinguishing actual churn instances while minimizing false negatives. Therefore, by leveraging the Random Forest Classification Undersampled model, we can implement targeted retention strategies, optimize customer retention initiatives, and ultimately foster sustainable business growth."
   ]
  }
 ],
 "metadata": {
  "kernelspec": {
   "display_name": "Python 3 (ipykernel)",
   "language": "python",
   "name": "python3"
  },
  "language_info": {
   "codemirror_mode": {
    "name": "ipython",
    "version": 3
   },
   "file_extension": ".py",
   "mimetype": "text/x-python",
   "name": "python",
   "nbconvert_exporter": "python",
   "pygments_lexer": "ipython3",
   "version": "3.9.18"
  }
 },
 "nbformat": 4,
 "nbformat_minor": 5
}
